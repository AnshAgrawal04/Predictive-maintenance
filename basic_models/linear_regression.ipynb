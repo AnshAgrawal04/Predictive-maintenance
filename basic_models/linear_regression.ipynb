{
 "cells": [
  {
   "cell_type": "code",
   "execution_count": 2,
   "metadata": {},
   "outputs": [],
   "source": [
    "from temporora import *"
   ]
  },
  {
   "cell_type": "code",
   "execution_count": null,
   "metadata": {},
   "outputs": [
    {
     "name": "stdout",
     "output_type": "stream",
     "text": [
      "Processing dataset: FD001\n"
     ]
    },
    {
     "name": "stderr",
     "output_type": "stream",
     "text": [
      "C:\\Users\\Piyush\\AppData\\Roaming\\Python\\Python312\\site-packages\\sklearn\\utils\\validation.py:1339: DataConversionWarning: A column-vector y was passed when a 1d array was expected. Please change the shape of y to (n_samples, ), for example using ravel().\n",
      "  y = column_or_1d(y, warn=True)\n"
     ]
    },
    {
     "ename": "ValueError",
     "evalue": "This solver needs samples of at least 2 classes in the data, but the data contains only one class: np.int64(1)",
     "output_type": "error",
     "traceback": [
      "\u001b[1;31m---------------------------------------------------------------------------\u001b[0m",
      "\u001b[1;31mValueError\u001b[0m                                Traceback (most recent call last)",
      "Cell \u001b[1;32mIn[3], line 28\u001b[0m\n\u001b[0;32m     26\u001b[0m     x \u001b[38;5;241m=\u001b[39m x\u001b[38;5;241m.\u001b[39mview(\u001b[38;5;241m-\u001b[39m\u001b[38;5;241m1\u001b[39m, args\u001b[38;5;241m.\u001b[39msequence_len \u001b[38;5;241m*\u001b[39m args\u001b[38;5;241m.\u001b[39mfeature_num)\u001b[38;5;241m.\u001b[39mnumpy()\n\u001b[0;32m     27\u001b[0m     y \u001b[38;5;241m=\u001b[39m (y\u001b[38;5;241m.\u001b[39mnumpy() \u001b[38;5;241m<\u001b[39m\u001b[38;5;241m=\u001b[39m failure_threshold)\u001b[38;5;241m.\u001b[39mastype(\u001b[38;5;28mint\u001b[39m)  \u001b[38;5;66;03m# Binary labels\u001b[39;00m\n\u001b[1;32m---> 28\u001b[0m     \u001b[43mlogistic\u001b[49m\u001b[38;5;241;43m.\u001b[39;49m\u001b[43mfit\u001b[49m\u001b[43m(\u001b[49m\u001b[43mx\u001b[49m\u001b[43m,\u001b[49m\u001b[43m \u001b[49m\u001b[43my\u001b[49m\u001b[43m)\u001b[49m\n\u001b[0;32m     30\u001b[0m \u001b[38;5;66;03m# Validation and Testing\u001b[39;00m\n\u001b[0;32m     31\u001b[0m valid_predictions, valid_actuals \u001b[38;5;241m=\u001b[39m [], []\n",
      "File \u001b[1;32m~\\AppData\\Roaming\\Python\\Python312\\site-packages\\sklearn\\base.py:1473\u001b[0m, in \u001b[0;36m_fit_context.<locals>.decorator.<locals>.wrapper\u001b[1;34m(estimator, *args, **kwargs)\u001b[0m\n\u001b[0;32m   1466\u001b[0m     estimator\u001b[38;5;241m.\u001b[39m_validate_params()\n\u001b[0;32m   1468\u001b[0m \u001b[38;5;28;01mwith\u001b[39;00m config_context(\n\u001b[0;32m   1469\u001b[0m     skip_parameter_validation\u001b[38;5;241m=\u001b[39m(\n\u001b[0;32m   1470\u001b[0m         prefer_skip_nested_validation \u001b[38;5;129;01mor\u001b[39;00m global_skip_validation\n\u001b[0;32m   1471\u001b[0m     )\n\u001b[0;32m   1472\u001b[0m ):\n\u001b[1;32m-> 1473\u001b[0m     \u001b[38;5;28;01mreturn\u001b[39;00m \u001b[43mfit_method\u001b[49m\u001b[43m(\u001b[49m\u001b[43mestimator\u001b[49m\u001b[43m,\u001b[49m\u001b[43m \u001b[49m\u001b[38;5;241;43m*\u001b[39;49m\u001b[43margs\u001b[49m\u001b[43m,\u001b[49m\u001b[43m \u001b[49m\u001b[38;5;241;43m*\u001b[39;49m\u001b[38;5;241;43m*\u001b[39;49m\u001b[43mkwargs\u001b[49m\u001b[43m)\u001b[49m\n",
      "File \u001b[1;32m~\\AppData\\Roaming\\Python\\Python312\\site-packages\\sklearn\\linear_model\\_logistic.py:1301\u001b[0m, in \u001b[0;36mLogisticRegression.fit\u001b[1;34m(self, X, y, sample_weight)\u001b[0m\n\u001b[0;32m   1299\u001b[0m classes_ \u001b[38;5;241m=\u001b[39m \u001b[38;5;28mself\u001b[39m\u001b[38;5;241m.\u001b[39mclasses_\n\u001b[0;32m   1300\u001b[0m \u001b[38;5;28;01mif\u001b[39;00m n_classes \u001b[38;5;241m<\u001b[39m \u001b[38;5;241m2\u001b[39m:\n\u001b[1;32m-> 1301\u001b[0m     \u001b[38;5;28;01mraise\u001b[39;00m \u001b[38;5;167;01mValueError\u001b[39;00m(\n\u001b[0;32m   1302\u001b[0m         \u001b[38;5;124m\"\u001b[39m\u001b[38;5;124mThis solver needs samples of at least 2 classes\u001b[39m\u001b[38;5;124m\"\u001b[39m\n\u001b[0;32m   1303\u001b[0m         \u001b[38;5;124m\"\u001b[39m\u001b[38;5;124m in the data, but the data contains only one\u001b[39m\u001b[38;5;124m\"\u001b[39m\n\u001b[0;32m   1304\u001b[0m         \u001b[38;5;124m\"\u001b[39m\u001b[38;5;124m class: \u001b[39m\u001b[38;5;132;01m%r\u001b[39;00m\u001b[38;5;124m\"\u001b[39m \u001b[38;5;241m%\u001b[39m classes_[\u001b[38;5;241m0\u001b[39m]\n\u001b[0;32m   1305\u001b[0m     )\n\u001b[0;32m   1307\u001b[0m \u001b[38;5;28;01mif\u001b[39;00m \u001b[38;5;28mlen\u001b[39m(\u001b[38;5;28mself\u001b[39m\u001b[38;5;241m.\u001b[39mclasses_) \u001b[38;5;241m==\u001b[39m \u001b[38;5;241m2\u001b[39m:\n\u001b[0;32m   1308\u001b[0m     n_classes \u001b[38;5;241m=\u001b[39m \u001b[38;5;241m1\u001b[39m\n",
      "\u001b[1;31mValueError\u001b[0m: This solver needs samples of at least 2 classes in the data, but the data contains only one class: np.int64(1)"
     ]
    }
   ],
   "source": [
    "# Assuming metrics is defined before this loop\n",
    "for dataset in datasets:\n",
    "    print(f\"Processing dataset: {dataset}\")\n",
    "    args.sub_dataset = dataset  # Set current dataset\n",
    "\n",
    "    train_loader, valid_loader, test_loader, test_loader_last, \\\n",
    "        num_test_windows, train_visualize, engine_id = get_dataloader(\n",
    "            dir_path=args.dataset_root,\n",
    "            sub_dataset=args.sub_dataset,\n",
    "            max_rul=args.max_rul,\n",
    "            seq_length=args.sequence_len,\n",
    "            batch_size=args.batch_size,\n",
    "            use_exponential_smoothing=args.use_exponential_smoothing,\n",
    "            smooth_rate=args.smooth_rate)\n",
    "\n",
    "    # Fit linear regression model\n",
    "    linear = LinearRegression()\n",
    "    for i, (x, y) in enumerate(train_loader):\n",
    "        x = x.view(-1, args.sequence_len * args.feature_num).numpy()\n",
    "        y = y.numpy()\n",
    "        linear.fit(x, y)\n",
    "\n",
    "    # Validate and Test\n",
    "    valid_predictions, valid_actuals = [], []\n",
    "    test_predictions, test_actuals = [], []\n",
    "\n",
    "    # Validation set\n",
    "    for i, (x, y) in enumerate(valid_loader):\n",
    "        x = x.view(-1, args.sequence_len * args.feature_num).numpy()\n",
    "        y = y.numpy()\n",
    "        preds = linear.predict(x)\n",
    "\n",
    "        valid_predictions.extend(preds)\n",
    "        valid_actuals.extend(y)\n",
    "\n",
    "    # Test set\n",
    "    for i, (x, y) in enumerate(test_loader):\n",
    "        x = x.view(-1, args.sequence_len * args.feature_num).numpy()\n",
    "        y = y.numpy()\n",
    "        preds = linear.predict(x)\n",
    "\n",
    "        test_predictions.extend(preds)\n",
    "        test_actuals.extend(y)\n",
    "\n",
    "    # Post-process predictions\n",
    "    test_predictions = np.array(test_predictions)\n",
    "    test_actuals = np.array(test_actuals)\n",
    "    valid_predictions = np.array(valid_predictions)\n",
    "    valid_actuals = np.array(valid_actuals)\n",
    "\n",
    "    max_rul = max(test_actuals.max(), valid_actuals.max())\n",
    "    test_predictions = np.clip(test_predictions, 0, max_rul)\n",
    "    valid_predictions = np.clip(valid_predictions, 0, max_rul)\n",
    "    test_predictions = test_predictions * args.max_rul\n",
    "    test_actuals = test_actuals * args.max_rul\n",
    "\n",
    "    # Compute Metrics\n",
    "    valid_mse = mean_squared_error(valid_actuals, valid_predictions)\n",
    "    valid_rmse = np.sqrt(valid_mse)\n",
    "    valid_r2 = r2_score(valid_actuals, valid_predictions)\n",
    "\n",
    "    test_mse = mean_squared_error(test_actuals, test_predictions)\n",
    "    test_rmse = np.sqrt(test_mse)\n",
    "    test_r2 = r2_score(test_actuals, test_predictions)\n",
    "\n",
    "    metrics[dataset] = {\n",
    "        \"Validation MSE\": valid_mse,\n",
    "        \"Validation RMSE\": valid_rmse,\n",
    "        \"Validation R2\": valid_r2,\n",
    "        \"Test MSE\": test_mse,\n",
    "        \"Test RMSE\": test_rmse,\n",
    "        \"Test R2\": test_r2\n",
    "    }\n",
    "\n",
    "    print(f\"Dataset {dataset} Metrics:\")\n",
    "    print(f\"Validation MSE: {valid_mse:.4f}, RMSE: {valid_rmse:.4f}, R2: {valid_r2:.4f}\")\n",
    "    print(f\"Test MSE: {test_mse:.4f}, RMSE: {test_rmse:.4f}, R2: {test_r2:.4f}\")\n",
    "\n",
    "    # Inline Plotting\n",
    "    plt.figure(figsize=(10, 6))\n",
    "    plt.plot(test_actuals, label='Actual RUL', color='blue', linewidth=2)\n",
    "    plt.plot(test_predictions, label='Predicted RUL', color='orange', linestyle='--', linewidth=2)\n",
    "    plt.xlabel('Window')\n",
    "    plt.ylabel('RUL')\n",
    "    plt.title(f'Linear Regression Model - {dataset}')\n",
    "    plt.legend()\n",
    "    plt.grid(True, linestyle='--', alpha=0.6)\n",
    "    plt.show()  # Inline visualization during the loop\n"
   ]
  },
  {
   "cell_type": "code",
   "execution_count": null,
   "metadata": {},
   "outputs": [],
   "source": []
  }
 ],
 "metadata": {
  "kernelspec": {
   "display_name": "Python 3",
   "language": "python",
   "name": "python3"
  },
  "language_info": {
   "codemirror_mode": {
    "name": "ipython",
    "version": 3
   },
   "file_extension": ".py",
   "mimetype": "text/x-python",
   "name": "python",
   "nbconvert_exporter": "python",
   "pygments_lexer": "ipython3",
   "version": "3.12.5"
  }
 },
 "nbformat": 4,
 "nbformat_minor": 2
}
